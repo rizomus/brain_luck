{
  "nbformat": 4,
  "nbformat_minor": 0,
  "metadata": {
    "colab": {
      "name": "brain_luck",
      "provenance": [],
      "collapsed_sections": [],
      "authorship_tag": "ABX9TyPsZdCteYz8pFaJUn0CEGIK"
    },
    "kernelspec": {
      "name": "python3",
      "display_name": "Python 3"
    },
    "language_info": {
      "name": "python"
    }
  },
  "cells": [
    {
      "cell_type": "code",
      "execution_count": null,
      "metadata": {
        "id": "GNC307oBsnIy"
      },
      "outputs": [],
      "source": [
        "def brain_luck(code, program_input):\n",
        "\n",
        "    code = list(code)\n",
        "    program_input = [int(ord(ch)) for ch in program_input]\n",
        "    pointer = 0\n",
        "    tape = [0 for x in range(2000)]\n",
        "    output = ''\n",
        "    i = 0\n",
        "\n",
        "    while i < len(code):\n",
        "        com = code[i]\n",
        "        if com == '>':\n",
        "            pointer +=1\n",
        "            i += 1\n",
        "        elif com == '<':\n",
        "            pointer -= 1\n",
        "            i += 1\n",
        "        elif com == '+':\n",
        "            tape[pointer] += 1\n",
        "            if tape[pointer] == 256:\n",
        "                tape[pointer] = 0\n",
        "            elif tape[pointer] == -1:\n",
        "                tape[pointer] = 255\n",
        "            i += 1\n",
        "        elif com == '-':\n",
        "            tape[pointer] -= 1\n",
        "            if tape[pointer] == 256:\n",
        "                tape[pointer] = 0\n",
        "            elif tape[pointer] == -1:\n",
        "                tape[pointer] = 255\n",
        "            i += 1\n",
        "        elif com == '.':\n",
        "            val = tape[pointer] \n",
        "            output += chr(val)\n",
        "            i += 1\n",
        "        elif com == ',':\n",
        "            tape[pointer] = program_input.pop(0)\n",
        "            i += 1\n",
        "        elif com == '[':\n",
        "            if tape[pointer] == 0:\n",
        "                bracket = 1\n",
        "                while bracket !=0:\n",
        "                    i += 1\n",
        "                    if code[i] == ']':\n",
        "                        bracket -= 1\n",
        "                    elif code[i] == '[':\n",
        "                        bracket += 1\n",
        "                i += 1\n",
        "            else:\n",
        "                i += 1\n",
        "        elif com == ']':\n",
        "            if tape[pointer] != 0:\n",
        "                bracket = 1\n",
        "                while bracket !=0:\n",
        "                    i -= 1\n",
        "                    if code[i] == '[':\n",
        "                        bracket -= 1\n",
        "                    elif code[i] == ']':\n",
        "                        bracket += 1\n",
        "                i += 1\n",
        "            else:\n",
        "                i += 1\n",
        "    return output  "
      ]
    }
  ]
}